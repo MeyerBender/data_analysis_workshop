{
 "cells": [
  {
   "cell_type": "markdown",
   "id": "74c04309",
   "metadata": {},
   "source": [
    "[![Open In Colab](https://colab.research.google.com/assets/colab-badge.svg)](https://colab.research.google.com/github/MeyerBender/data_analysis_workshop/blob/main/notebooks/01_intro_to_python.ipynb)"
   ]
  },
  {
   "cell_type": "markdown",
   "id": "c35c2c27-9acd-435f-8f11-29cb9e597cea",
   "metadata": {},
   "source": [
    "# Introduction to Python"
   ]
  },
  {
   "cell_type": "markdown",
   "id": "e2e678e9-aecf-45d6-8729-27e6d43632cb",
   "metadata": {
    "tags": []
   },
   "source": [
    "## \"Hello World!\" - Printing and Variables\n",
    "This is a jupyter notebook. It contains code cells, which you can run by either clicking the `Run` button on top or hitting `Ctrl + Enter` on your keyboard.\n",
    "The notebook aims to show how programming in python works and then goes into more detail on how to work with images.\n",
    "\n",
    "In python, a comment is preceded by a `#`, so any code that comes after the `#` on the same line will not be executed.\n",
    "\n",
    "You can print things by calling the `print()` function.\n",
    "\n",
    "You can also do simple math an assign numbers or strings to variables. You do not need to declare the type of a variable, as python will take care of this automatically."
   ]
  },
  {
   "cell_type": "code",
   "execution_count": 1,
   "id": "61a30ce9-d0b7-4f37-8379-51fb08d4c22a",
   "metadata": {
    "tags": []
   },
   "outputs": [],
   "source": [
    "# this is a comment, and running this cell will not do anything"
   ]
  },
  {
   "cell_type": "code",
   "execution_count": null,
   "id": "bf0754ca-d299-4b8f-98f7-57eebd8c7cd6",
   "metadata": {
    "tags": []
   },
   "outputs": [],
   "source": [
    "print(\"Hello, world!\")"
   ]
  },
  {
   "cell_type": "code",
   "execution_count": null,
   "id": "78edf588-0d9d-4592-8fca-40f4ff6d4998",
   "metadata": {
    "tags": []
   },
   "outputs": [],
   "source": [
    "print(1 + 2)"
   ]
  },
  {
   "cell_type": "code",
   "execution_count": null,
   "id": "ab84f107-cafd-4e29-acdf-99526611e53f",
   "metadata": {
    "tags": []
   },
   "outputs": [],
   "source": [
    "a = 2\n",
    "b = 3\n",
    "print(a + b)"
   ]
  },
  {
   "cell_type": "code",
   "execution_count": null,
   "id": "b4e65d60-0d93-434b-ad4d-243d73eaf068",
   "metadata": {
    "tags": []
   },
   "outputs": [],
   "source": [
    "c = \"test1\"\n",
    "d = \"test2\"\n",
    "print(c + d)"
   ]
  },
  {
   "cell_type": "code",
   "execution_count": null,
   "id": "3ad40b80-05c9-4ba9-b597-1787f84baf91",
   "metadata": {
    "tags": []
   },
   "outputs": [],
   "source": [
    "# it is often useful to print out a message and the value of a variable\n",
    "# python has f-strings to facilitate this\n",
    "# simple put an f in front of the quotation marks and put everything that should be \n",
    "# interpreted in curly brackets\n",
    "print(f\"The value of variable a is {a}\")"
   ]
  },
  {
   "cell_type": "markdown",
   "id": "48956ce8-9d73-4540-b46d-03f26de56fbe",
   "metadata": {},
   "source": [
    "### Exercise\n",
    "Create two variables, one string and one number. Write an f-string that prints the variable names and values."
   ]
  },
  {
   "cell_type": "code",
   "execution_count": null,
   "id": "c13e04a4-ac61-4dba-9b41-12f4809b607a",
   "metadata": {
    "tags": []
   },
   "outputs": [],
   "source": [
    "# *** your code here ***"
   ]
  },
  {
   "cell_type": "markdown",
   "id": "694c4913-d9d0-49b6-8dcb-b90279e1ff4f",
   "metadata": {
    "tags": []
   },
   "source": [
    "## Data Structures\n",
    "\n",
    "Numbers and strings are nice, but limited in the things they can do. There are more data structures in python, which help us to structure our code.\n",
    "\n",
    "- Sets: Sets are unordered lists of items. They can be constructed with curly brackets. \n",
    "- Tuples: Tuples are ordered lists of items. Once instantiated, their values cannot be changed.\n",
    "- Lists: Probably the most useful. An ordered list of items that can be accessed with `list[i]`.\n",
    "- Dictionaries: Dictionaries map from a set of keys to a set of values. They are also instantiated with curly brackets (or the `dict()` constructor). Keys and values are separated with `:`."
   ]
  },
  {
   "cell_type": "markdown",
   "id": "fc5f0efc-3681-4d74-89e2-83c339015793",
   "metadata": {},
   "source": [
    "### Sets"
   ]
  },
  {
   "cell_type": "code",
   "execution_count": null,
   "id": "2144542d-3444-49be-952f-25bcb7995b4c",
   "metadata": {
    "tags": []
   },
   "outputs": [],
   "source": [
    "set_1 = {1, 2, 3}\n",
    "print(set_1)"
   ]
  },
  {
   "cell_type": "code",
   "execution_count": null,
   "id": "0b2aed80-1095-4609-98c4-57b9f99b42e4",
   "metadata": {
    "tags": []
   },
   "outputs": [],
   "source": [
    "# What do you think happens when we try to access the first element of a set? \n",
    "# Why does this happen?\n",
    "# Also note that in python (and in most programming languages, with R being the exception), indexing starts at 0!\n",
    "print(set_1[0])"
   ]
  },
  {
   "cell_type": "markdown",
   "id": "54416aea-3be7-4714-9de2-2574cba08546",
   "metadata": {},
   "source": [
    "### Tuples"
   ]
  },
  {
   "cell_type": "code",
   "execution_count": null,
   "id": "61b05a0a-ee3f-4def-bc06-b59f9598e92e",
   "metadata": {
    "tags": []
   },
   "outputs": [],
   "source": [
    "# tuples are instantiated with round brackets\n",
    "tuple_1 = (1, 2, 3)\n",
    "print(tuple_1)"
   ]
  },
  {
   "cell_type": "code",
   "execution_count": null,
   "id": "0771965b-783b-4eec-b881-820b89e36f59",
   "metadata": {
    "tags": []
   },
   "outputs": [],
   "source": [
    "# can we access the first element for a tuple?\n",
    "tuple_1[0]"
   ]
  },
  {
   "cell_type": "code",
   "execution_count": null,
   "id": "ea34f073-f30d-4fee-a580-fb44e47db9d1",
   "metadata": {
    "tags": []
   },
   "outputs": [],
   "source": [
    "# how about changing the value?\n",
    "tuple_1[0] = 5"
   ]
  },
  {
   "cell_type": "markdown",
   "id": "6b8aa8ab-7372-45c1-9c3b-9a5264c8f15a",
   "metadata": {},
   "source": [
    "### Lists"
   ]
  },
  {
   "cell_type": "code",
   "execution_count": null,
   "id": "c2ceefca-96a8-4ce8-bab2-51c25a6dacee",
   "metadata": {
    "tags": []
   },
   "outputs": [],
   "source": [
    "# creating a list\n",
    "list_1 = [1, 2, 3, 4, 5]\n",
    "print(list_1)"
   ]
  },
  {
   "cell_type": "code",
   "execution_count": null,
   "id": "3e47e68e-874b-4846-ac56-2ed6147b0b95",
   "metadata": {
    "tags": []
   },
   "outputs": [],
   "source": [
    "# can we access the first element?\n",
    "list_1[0]"
   ]
  },
  {
   "cell_type": "code",
   "execution_count": null,
   "id": "86fd72b7-6e7f-4b15-b297-9da758da366b",
   "metadata": {
    "tags": []
   },
   "outputs": [],
   "source": [
    "# how about changing it?\n",
    "list_1[0] = 9\n",
    "print(list_1)"
   ]
  },
  {
   "cell_type": "code",
   "execution_count": null,
   "id": "b105318a-98d4-48c7-b861-d5ddc288102c",
   "metadata": {
    "tags": []
   },
   "outputs": [],
   "source": [
    "# you can get the length of a list using len()\n",
    "len(list_1)"
   ]
  },
  {
   "cell_type": "markdown",
   "id": "086f24a0-ca92-4e6e-b365-75cceecf7a0f",
   "metadata": {},
   "source": [
    "### Dictionaries"
   ]
  },
  {
   "cell_type": "code",
   "execution_count": null,
   "id": "4bd51e8a-a9ab-4696-9766-bdc8c82098bb",
   "metadata": {
    "tags": []
   },
   "outputs": [],
   "source": [
    "dict_1 = {\"student_1\": \"Mary\", \"student_2\": \"John\", \"teacher\": \"Mr. Einstein\"}\n",
    "print(dict_1)"
   ]
  },
  {
   "cell_type": "code",
   "execution_count": null,
   "id": "31633689-7fa4-454a-a2f7-b165da0c8b25",
   "metadata": {
    "tags": []
   },
   "outputs": [],
   "source": [
    "# getting the value for a key\n",
    "dict_1[\"student_2\"]"
   ]
  },
  {
   "cell_type": "code",
   "execution_count": null,
   "id": "7b0e972f-20a4-491c-bb9c-3a90f267001a",
   "metadata": {
    "tags": []
   },
   "outputs": [],
   "source": [
    "# can we use indices to access certain values of the dictionary?\n",
    "dict_1[0]"
   ]
  },
  {
   "cell_type": "code",
   "execution_count": null,
   "id": "cba87967-20ae-4691-aaf7-5bdcc177b938",
   "metadata": {
    "tags": []
   },
   "outputs": [],
   "source": [
    "# inserting a new key\n",
    "dict_1[\"student_3\"] = \"Caroline\"\n",
    "dict_1"
   ]
  },
  {
   "cell_type": "code",
   "execution_count": null,
   "id": "3274e5c9-6bff-4064-b31a-9176055e8963",
   "metadata": {
    "tags": []
   },
   "outputs": [],
   "source": [
    "# changing the value for a key\n",
    "dict_1[\"teacher\"] = \"Ms. Curie\"\n",
    "dict_1"
   ]
  },
  {
   "cell_type": "markdown",
   "id": "7c00983d-2a2c-483e-9119-f597ea2adccc",
   "metadata": {},
   "source": [
    "### Exercise\n",
    "Create a list and a dict. Try changing the values within them."
   ]
  },
  {
   "cell_type": "code",
   "execution_count": null,
   "id": "cf52e1cf-6027-461b-b0f3-be8ffc68c760",
   "metadata": {
    "tags": []
   },
   "outputs": [],
   "source": [
    "# *** your code here ***"
   ]
  },
  {
   "cell_type": "markdown",
   "id": "a266bd9f-663c-4396-b826-849f85946998",
   "metadata": {
    "tags": []
   },
   "source": [
    "## Control Flow\n",
    "\n",
    "There are three main ways you can alter the flow of your program.\n",
    "\n",
    "- if and else: executes a code block if a certain condition is met\n",
    "- while: executes a code block until a condition is False. Can lead to infinite loops, so for loops are generally better\n",
    "- for: executes a code block a certain number of times"
   ]
  },
  {
   "cell_type": "code",
   "execution_count": null,
   "id": "aae49c91-4b52-4684-b4ac-8a3900e92c44",
   "metadata": {
    "tags": []
   },
   "outputs": [],
   "source": [
    "# if else\n",
    "# try changing the value of a and see what happens\n",
    "a = 0\n",
    "\n",
    "if a == 0:  # checking if a is equal to 0\n",
    "    print(\"ZERO\")\n",
    "elif a == 1:  # elif is short for \"else if\"\n",
    "    print(\"ONE\")\n",
    "else:\n",
    "    print(\"MULTIPLE\")"
   ]
  },
  {
   "cell_type": "code",
   "execution_count": null,
   "id": "65094908-f6db-4b3a-99f0-e914558c9f29",
   "metadata": {
    "tags": []
   },
   "outputs": [],
   "source": [
    "# while loop\n",
    "counter = 0\n",
    "\n",
    "while counter < 3:\n",
    "    print(counter)\n",
    "    counter += 1  # this is the same as writing \"counter = counter + 1\". It basically increases the value of counter by 1"
   ]
  },
  {
   "cell_type": "code",
   "execution_count": null,
   "id": "58044ada-760c-4dc5-8561-da51d1b2ec94",
   "metadata": {
    "tags": []
   },
   "outputs": [],
   "source": [
    "# guess: what value will the variable counter have now?\n",
    "print(counter)"
   ]
  },
  {
   "cell_type": "code",
   "execution_count": null,
   "id": "37fe5dc7-87eb-4572-b95b-bc7cd7977d55",
   "metadata": {
    "tags": []
   },
   "outputs": [],
   "source": [
    "# for loop\n",
    "\n",
    "# range(n) creates an object similar to a list from 0 to whatever argument you provide. \n",
    "# It is end-exclusive, so range(3) will yield something like [0, 1, 2].\n",
    "for i in range(3):\n",
    "    print(i)"
   ]
  },
  {
   "cell_type": "code",
   "execution_count": null,
   "id": "a1e3e598-b56d-4dd2-a239-16c8e67ca068",
   "metadata": {
    "tags": []
   },
   "outputs": [],
   "source": [
    "# using for with lists\n",
    "list_1 = [\"apple\", \"banana\", \"pineapple\"]\n",
    "for item in list_1:\n",
    "    print(item)"
   ]
  },
  {
   "cell_type": "code",
   "execution_count": null,
   "id": "a29def0f-4f9d-4598-99f6-9eb8da61b7a6",
   "metadata": {
    "tags": []
   },
   "outputs": [],
   "source": [
    "# you can use enumerate to return an items index in the list and its value simultaneously\n",
    "for i, item in enumerate(list_1):\n",
    "    print(f\"Item on position {i} is {item}\")"
   ]
  },
  {
   "cell_type": "code",
   "execution_count": null,
   "id": "5da2e3d0-d8b7-4f2b-9a9b-154976400452",
   "metadata": {
    "tags": []
   },
   "outputs": [],
   "source": [
    "# often, you want to apply some transformation to all elements of a list\n",
    "# for example, let's say you want to add _x to all elements in the list\n",
    "for i, item in enumerate(list_1):\n",
    "    list_1[i] = item + \"_x\"\n",
    "    \n",
    "print(list_1)"
   ]
  },
  {
   "cell_type": "code",
   "execution_count": null,
   "id": "e8945466-0d42-43ea-98be-d08599957a5f",
   "metadata": {},
   "outputs": [],
   "source": [
    "# Exercise: how could you make the expression above shorter using the += syntax shown earlier?\n",
    "# *** your code here ***"
   ]
  },
  {
   "cell_type": "code",
   "execution_count": null,
   "id": "e6404a2a-bb57-476b-abee-a0604483ba89",
   "metadata": {
    "tags": []
   },
   "outputs": [],
   "source": [
    "# instead of writing a for loop, we can also use a so called list comprehension\n",
    "# it accomplishes the same thing, but is more elegant\n",
    "list_1 = [f\"{item}_y\" for item in list_1]\n",
    "list_1"
   ]
  },
  {
   "cell_type": "markdown",
   "id": "d2844050-79cc-4006-ac10-6f3a2cdf5c01",
   "metadata": {},
   "source": [
    "### Exercise\n",
    "\n",
    "Create a list consisting of five zeroes. Create a dictionary that maps the numbers from 0 to 4 to some letters of your choice.\n",
    "Write a for loop that goes through the numbers from 0 to 4. For each index, change the element in the list at that index to the corresponding value in your dictionary.\n",
    "\n",
    "Example: if your dict maps from 0-4 to a-e, the output would be [a, b, c, d, e]."
   ]
  },
  {
   "cell_type": "code",
   "execution_count": 46,
   "id": "b87fdd35-820c-426e-8ef2-bb6ac760e66a",
   "metadata": {
    "tags": []
   },
   "outputs": [],
   "source": [
    "# *** your code here ***"
   ]
  },
  {
   "cell_type": "markdown",
   "id": "05d0c0fd-f544-42c6-a771-b806d8f832b4",
   "metadata": {
    "tags": []
   },
   "source": [
    "## Functions\n",
    "\n",
    "A function can be viewed as a reusable codeblock. In R, you instantiate a function with the `function` keyword. In python, we use `def` instead."
   ]
  },
  {
   "cell_type": "code",
   "execution_count": 37,
   "id": "064e9050-0eef-469e-bdaf-818550a6af7e",
   "metadata": {
    "tags": []
   },
   "outputs": [],
   "source": [
    "# defining a function\n",
    "def add(a, b):\n",
    "    # return the output of the function\n",
    "    return a + b"
   ]
  },
  {
   "cell_type": "code",
   "execution_count": null,
   "id": "cd281de3-fc3d-467e-9e97-d8a0122a4165",
   "metadata": {
    "tags": []
   },
   "outputs": [],
   "source": [
    "add(5, 9)"
   ]
  },
  {
   "cell_type": "code",
   "execution_count": null,
   "id": "45eb9cb9-c30f-4232-9edc-2c2a9dcaf253",
   "metadata": {
    "tags": []
   },
   "outputs": [],
   "source": [
    "# since python automatically infers types, we can also abuse the method to concatenate strings\n",
    "add(\"John \", \"Cena\")"
   ]
  },
  {
   "cell_type": "code",
   "execution_count": 40,
   "id": "983cc84b-0356-4034-b518-092a0c33fda1",
   "metadata": {
    "tags": []
   },
   "outputs": [],
   "source": [
    "# we can provide default arguments, so if the function is called without them, they go to their default value\n",
    "def write_nice_message(greeting, compliment=\"awesome\"):\n",
    "    print(f\"{greeting}, you are {compliment}!\")"
   ]
  },
  {
   "cell_type": "code",
   "execution_count": null,
   "id": "4db7c68b-5e1d-48da-8032-a20d4011e6e3",
   "metadata": {
    "tags": []
   },
   "outputs": [],
   "source": [
    "write_nice_message(\"Hi\", compliment=\"amazing\")"
   ]
  },
  {
   "cell_type": "code",
   "execution_count": null,
   "id": "5faa87b5-6957-4dea-bc60-98f0d38baa78",
   "metadata": {
    "tags": []
   },
   "outputs": [],
   "source": [
    "# the compliment argument was not provided, so the function defaults to \"awesome\"\n",
    "write_nice_message(\"Hello there\")"
   ]
  },
  {
   "cell_type": "markdown",
   "id": "10e529e4-6ae2-47d5-b560-c019daa88f60",
   "metadata": {},
   "source": [
    "### Exercise\n",
    "Write a function that takes a list of numbers as input and returns the average of those numbers."
   ]
  },
  {
   "cell_type": "code",
   "execution_count": 45,
   "id": "31158cd5-5bbd-425b-8456-bf58ac957700",
   "metadata": {
    "tags": []
   },
   "outputs": [],
   "source": [
    "# *** your code here ***"
   ]
  },
  {
   "cell_type": "markdown",
   "id": "8c096955-ab5f-4bb1-b524-e4342d8d39bf",
   "metadata": {},
   "source": [
    "## Packages\n",
    "\n",
    "Python out of the box is already quite powerful, but we can enhance its capabilities by using packages. The most important ones include:\n",
    "- numpy: allows you to work with big arrays of numbers faster than just using lists\n",
    "- pandas: basically numpy on steroids. Allows you to work with data frames, which are similar to what you might be used to from R\n",
    "- matplotlib.pyplot: enables basic plotting and showing images\n",
    "- seaborn: better plotting than pyplot"
   ]
  },
  {
   "cell_type": "markdown",
   "id": "915190b3-2298-4ad3-9807-f32119067f67",
   "metadata": {
    "tags": []
   },
   "source": [
    "### Numpy"
   ]
  },
  {
   "cell_type": "code",
   "execution_count": null,
   "id": "c2e4bf35-6d89-4ff8-93b7-68f3427371b5",
   "metadata": {
    "tags": []
   },
   "outputs": [],
   "source": [
    "# importing packages can be done using the import keyword\n",
    "import numpy as np\n",
    "test_array = np.zeros(shape=(3, 2))  # here, we pass the desired shape as a tuple\n",
    "test_array"
   ]
  },
  {
   "cell_type": "code",
   "execution_count": null,
   "id": "ef925681-bfa5-4492-aa65-dae5aad434e6",
   "metadata": {
    "tags": []
   },
   "outputs": [],
   "source": [
    "# adding another array full of random numbers\n",
    "random_array = np.random.rand(3, 2)\n",
    "random_array"
   ]
  },
  {
   "cell_type": "code",
   "execution_count": null,
   "id": "081a9938-8ad6-47ad-a0bf-9fbec0b0f7d7",
   "metadata": {
    "tags": []
   },
   "outputs": [],
   "source": [
    "# access a value like this. Y is first, then X.\n",
    "random_array[0, 1]"
   ]
  },
  {
   "cell_type": "code",
   "execution_count": null,
   "id": "a4c7e1ca-af1e-44e9-82bc-360e23ee573d",
   "metadata": {
    "tags": []
   },
   "outputs": [],
   "source": [
    "# we can simply add two arrays together\n",
    "np.ones(shape=(3, 2)) + random_array"
   ]
  },
  {
   "cell_type": "code",
   "execution_count": null,
   "id": "76afa272-f5a2-4e8c-aa51-7091b1257d0c",
   "metadata": {
    "tags": []
   },
   "outputs": [],
   "source": [
    "# we can also get the col sums or row sums\n",
    "print(np.sum(random_array, axis=0))\n",
    "print(np.sum(random_array, axis=1))"
   ]
  },
  {
   "cell_type": "markdown",
   "id": "4546106b-2fae-4f48-937c-57dc7c4fd451",
   "metadata": {},
   "source": [
    "#### Exercise\n",
    "Create a 5 by 5 array of random numbers. Apply the log transform to the values (use `np.log()`). Print the output."
   ]
  },
  {
   "cell_type": "code",
   "execution_count": null,
   "id": "0e800be5-f76d-4c52-b37d-465901f28895",
   "metadata": {
    "tags": []
   },
   "outputs": [],
   "source": [
    "# *** your code here ***"
   ]
  },
  {
   "cell_type": "markdown",
   "id": "77ce58a4-88f6-4772-9da4-74151378b56c",
   "metadata": {
    "tags": []
   },
   "source": [
    "### Pandas"
   ]
  },
  {
   "cell_type": "code",
   "execution_count": null,
   "id": "c2255e7d-1bac-475e-b9e8-f2fbf61d0eab",
   "metadata": {
    "tags": []
   },
   "outputs": [],
   "source": [
    "import pandas as pd\n",
    "\n",
    "# note how we can use dictionaries and lists to construct a data frame\n",
    "df = pd.DataFrame({\"col1\": [1, 2, 3], \"col2\": [4, 5, 6], \"col3\": [7, 8, 9]})\n",
    "df"
   ]
  },
  {
   "cell_type": "code",
   "execution_count": 53,
   "id": "f7240baa-2280-40a2-885d-68ef499ce940",
   "metadata": {
    "tags": []
   },
   "outputs": [],
   "source": [
    "# you can also read a csv file by using pd.read_csv(\"/your/file/path.csv\"). Try it!\n",
    "# *** your code here ***"
   ]
  },
  {
   "cell_type": "code",
   "execution_count": null,
   "id": "320e7a1d-6411-4bfd-8cca-bb6d0f5a8b14",
   "metadata": {
    "tags": []
   },
   "outputs": [],
   "source": [
    "# select a column like this\n",
    "df[\"col3\"]"
   ]
  },
  {
   "cell_type": "code",
   "execution_count": null,
   "id": "ab5f4cbb-45c8-4414-bdba-55a45b4bcdf0",
   "metadata": {
    "tags": []
   },
   "outputs": [],
   "source": [
    "# add a column like this\n",
    "df[\"col4\"] = [0, 1, 1]\n",
    "df"
   ]
  },
  {
   "cell_type": "code",
   "execution_count": null,
   "id": "d32836d8-b25d-4203-8a7c-605820c3907a",
   "metadata": {
    "tags": []
   },
   "outputs": [],
   "source": [
    "# selecting by a condition\n",
    "df[df[\"col4\"] == 1]"
   ]
  },
  {
   "cell_type": "code",
   "execution_count": null,
   "id": "b8136f6d-a558-499e-80b1-ee5250807cc9",
   "metadata": {
    "tags": []
   },
   "outputs": [],
   "source": [
    "# selecting by indices\n",
    "# y first, x second\n",
    "# remember that pythons starts counting at 0\n",
    "df.iloc[1, 2]"
   ]
  },
  {
   "cell_type": "markdown",
   "id": "c274a629-2139-4793-8d8e-f18ac392d855",
   "metadata": {
    "tags": []
   },
   "source": [
    "### Pyplot and Seaborn"
   ]
  },
  {
   "cell_type": "code",
   "execution_count": null,
   "id": "c69e09aa-ca81-4c52-9486-495e0b19c7aa",
   "metadata": {
    "tags": []
   },
   "outputs": [],
   "source": [
    "df"
   ]
  },
  {
   "cell_type": "code",
   "execution_count": 61,
   "id": "98f001b6-88c3-4593-9c92-1b2b0f452542",
   "metadata": {
    "tags": []
   },
   "outputs": [],
   "source": [
    "import matplotlib.pyplot as plt\n",
    "import seaborn as sns"
   ]
  },
  {
   "cell_type": "code",
   "execution_count": null,
   "id": "1aeb46d2-8a6b-41d4-b7ca-a487d629ea9d",
   "metadata": {
    "tags": []
   },
   "outputs": [],
   "source": [
    "plt.scatter(df[\"col1\"], df[\"col2\"])"
   ]
  },
  {
   "cell_type": "code",
   "execution_count": null,
   "id": "c9828799-e1e5-4ea6-af47-eba3434a3dad",
   "metadata": {
    "tags": []
   },
   "outputs": [],
   "source": [
    "sns.scatterplot(df, x=\"col1\", y=\"col2\")"
   ]
  },
  {
   "cell_type": "code",
   "execution_count": null,
   "id": "a4c376e7-095e-44ff-81a0-04e45dc3c328",
   "metadata": {
    "tags": []
   },
   "outputs": [],
   "source": [
    "sns.lineplot(df, x=\"col1\", y=\"col2\")"
   ]
  },
  {
   "cell_type": "code",
   "execution_count": null,
   "id": "53cd7181-f4a1-49b2-b489-c9397f82ebac",
   "metadata": {
    "tags": []
   },
   "outputs": [],
   "source": [
    "# creating a random numpy array of shape 50 by 50\n",
    "numpy_array = np.random.rand(50, 50)\n",
    "# showing a numpy array as an image\n",
    "# not really relevant for our project, but maybe useful for people working with images\n",
    "plt.imshow(numpy_array)"
   ]
  }
 ],
 "metadata": {
  "kernelspec": {
   "display_name": "scot_env",
   "language": "python",
   "name": "scot_env"
  },
  "language_info": {
   "codemirror_mode": {
    "name": "ipython",
    "version": 3
   },
   "file_extension": ".py",
   "mimetype": "text/x-python",
   "name": "python",
   "nbconvert_exporter": "python",
   "pygments_lexer": "ipython3",
   "version": "3.8.15"
  }
 },
 "nbformat": 4,
 "nbformat_minor": 5
}
